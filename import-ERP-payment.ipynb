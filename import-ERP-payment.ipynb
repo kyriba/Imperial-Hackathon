{
  "nbformat": 4,
  "nbformat_minor": 0,
  "metadata": {
    "kernelspec": {
      "display_name": "Python 3",
      "language": "python",
      "name": "python3"
    },
    "language_info": {
      "codemirror_mode": {
        "name": "ipython",
        "version": 3
      },
      "file_extension": ".py",
      "mimetype": "text/x-python",
      "name": "python",
      "nbconvert_exporter": "python",
      "pygments_lexer": "ipython3",
      "version": "3.6.13"
    },
    "colab": {
      "name": "hacka_imp2.ipynb",
      "provenance": [],
      "collapsed_sections": [
        "rofwoW-KD_RR"
      ]
    }
  },
  "cells": [
    {
      "cell_type": "markdown",
      "metadata": {
        "id": "ouhEwU-mCo1T"
      },
      "source": [
        "# <font color=cyan> Import ERP Payment </font>"
      ]
    },
    {
      "cell_type": "markdown",
      "metadata": {
        "id": "rofwoW-KD_RR"
      },
      "source": [
        "## Token generation and API Management"
      ]
    },
    {
      "cell_type": "code",
      "metadata": {
        "id": "svDWLAF7AWTN",
        "cellView": "form"
      },
      "source": [
        "#@title Import modules\n",
        "\n",
        "import pandas as pd\n",
        "import json\n",
        "import requests, base64\n",
        "import re\n",
        "import pandas as pd\n",
        "from io import StringIO\n",
        "import csv\n",
        "import copy"
      ],
      "execution_count": null,
      "outputs": []
    },
    {
      "cell_type": "code",
      "metadata": {
        "id": "HvJqqaF7AWTR",
        "cellView": "form"
      },
      "source": [
        "#@title API Management\n",
        "\n",
        "def login(client_id, client_secret):\n",
        "    \"\"\"\n",
        "    :param client_id: str\n",
        "    :param client_secret: str\n",
        "    :return: encoded user name (input of the function get_token)\n",
        "    \"\"\"\n",
        "    userpass = client_id + ':' + client_secret\n",
        "    encoded_u = base64.b64encode(userpass.encode()).decode()\n",
        "    return encoded_u\n",
        "\n",
        "def get_token(encoded_u):\n",
        "    url = \"https://demo.kyriba.com/gateway/oauth/token\"\n",
        "    payload='grant_type=client_credentials&scope='\n",
        "    headers = {\n",
        "      'Authorization': 'Basic '+ encoded_u,\n",
        "      'Content-Type': 'application/x-www-form-urlencoded'\n",
        "    }\n",
        "    response = requests.request(\"POST\", url, headers=headers, data=payload)\n",
        "    return json.loads(response.text)['access_token']\n",
        "\n",
        "def input_to_api(txt,token,filename):\n",
        "    \"\"\"\n",
        "    :param txt: str to try if it corresponds to the desired output\n",
        "    :param token: str output of the get_token function\n",
        "    :param filename: str should be unique each time to find the response of the query launched\n",
        "    :return: fileId str\n",
        "    \"\"\"\n",
        "    url = \"https://demo.kyriba.com/gateway/api/v1/data?fileName=\"+filename\n",
        "    payload = txt\n",
        "    headers = {\n",
        "      'Content-Type': 'text/plain;charset=utf-8',\n",
        "      'Authorization': 'Bearer '+token\n",
        "        }\n",
        "    response = requests.request(\"POST\", url, headers=headers, data=payload)\n",
        "    return json.loads(response.text)['fileId']\n",
        "\n",
        "def api_to_pt(fileid,templateref,token):\n",
        "    url = \"https://demo.kyriba.com/gateway/api/v1/process-templates/\"+templateref+\"/run?fileIds=\"+fileid\n",
        "    payload={}\n",
        "    headers = {'Authorization': 'Bearer '+token}\n",
        "    response = requests.request(\"POST\", url, headers=headers, data=payload)\n",
        "    return json.loads(response.text)[0]['taskId']\n",
        "\n",
        "def get_status(taskid,token):\n",
        "    url = \"https://demo.kyriba.com/gateway/api/v1/process-templates/\"+taskid+\"/status\"\n",
        "    payload={}\n",
        "    headers = {'Authorization': 'Bearer '+token}\n",
        "    response = requests.request(\"GET\", url, headers=headers, data=payload)\n",
        "    return json.loads(response.text)\n",
        "\n",
        "def get_details(taskid,token):\n",
        "    url = \"https://demo.kyriba.com/gateway/api/v1/process-templates/\"+taskid+\"/details\"\n",
        "    payload={}\n",
        "    headers = {'Authorization': 'Bearer '+token}\n",
        "    response = requests.request(\"GET\", url, headers=headers, data=payload)\n",
        "    return json.loads(response.text)\n",
        "\n",
        "def get_result_file(taskid, ref, token):\n",
        "    url = \"https://demo.kyriba.com/gateway/api/v1/process-templates/\"+ref+\"/files?taskId=\"+taskid\n",
        "    payload={}\n",
        "    headers = {'Authorization': 'Bearer '+token}\n",
        "    response = requests.request(\"GET\", url, headers=headers, data=payload)\n",
        "    return response.text"
      ],
      "execution_count": null,
      "outputs": []
    },
    {
      "cell_type": "code",
      "metadata": {
        "id": "TEMa8J2XAWTS",
        "cellView": "form"
      },
      "source": [
        "#@title Code for Importing through Process Templates\n",
        "\n",
        "def test(client_id,client_secret, txt, filename):\n",
        "    \"\"\"\n",
        "    :param client_id: str that we give you\n",
        "    :param client_secret: str that we give you\n",
        "    :param txt: str to try if it corresponds to the desired output\n",
        "    :param filename: tr should be unique each time to find the response of the query launched\n",
        "    :return True, None if the txt is in the correct format and no errors were detected\n",
        "    else: return False, dataframe describing the error found\n",
        "    This function returns a single error despite the fact that several errors may exist in the input.\n",
        "    You can correct the error found and re-run the function to find the other errors if they exist.\n",
        "    \"\"\"\n",
        "    template_refs = ['ERP_PY_API','PY_REJ_API']\n",
        "    encoded_u = login(client_id,client_secret)\n",
        "    token = get_token(encoded_u)\n",
        "    fileid = input_to_api(txt,token,filename)\n",
        "    taskid1 = api_to_pt(fileid,template_refs[0],token)\n",
        "    if get_status(taskid1,token)['status']=='Complete':\n",
        "        return True, None\n",
        "    taskid2 = api_to_pt(fileid,template_refs[1],token)\n",
        "    out = get_result_file(taskid2,template_refs[1],token)\n",
        "    list_ = out.split('\\n')\n",
        "    rex = re.compile('[\"]')\n",
        "    l = []\n",
        "    for element in list_:\n",
        "        l.append(rex.sub('',element).split(','))\n",
        "    df = pd.DataFrame(l,columns = l[2])\n",
        "    return False, df[df['File name']==filename+'_rej']"
      ],
      "execution_count": null,
      "outputs": []
    },
    {
      "cell_type": "markdown",
      "metadata": {
        "id": "P0ITn5QKAWTT"
      },
      "source": [
        "## Example\n",
        "\n",
        "Here we have two errors transacation date=20211132 and currency_code = US8"
      ]
    },
    {
      "cell_type": "code",
      "metadata": {
        "id": "RmEq2CZcAWTV",
        "cellView": "form"
      },
      "source": [
        "#@title Define file content and name\n",
        "\n",
        "txt = \"TR||37276137836630a8473b|US BF1030134 0200154009450|US8|2000.00|20211132|||Computers by Jenni||||1515 Main St.||Middlefield|94482|CA|||||||||||||0910000193||||||||||||||||||||||||\\r\\nIN|0|155|155|20211109|20211130|0.00|2000.00|||||\"\n",
        "filename='test_hackathon1'\n",
        "\n",
        "# Code for authentication through CSV file\n",
        "cfg = pd.read_csv(\"/content/config.csv\")\n",
        "client_id = cfg['client_id'].values[0]\n",
        "client_secret = cfg['client_secret'].values[0]"
      ],
      "execution_count": null,
      "outputs": []
    },
    {
      "cell_type": "code",
      "metadata": {
        "id": "XaH8MbqoAWTW",
        "cellView": "form"
      },
      "source": [
        "#@title Get imported files\n",
        "\n",
        "v, result = test(client_id,client_secret,txt,filename)\n",
        "result"
      ],
      "execution_count": null,
      "outputs": []
    },
    {
      "cell_type": "code",
      "metadata": {
        "id": "iAk6v7c_AWTX",
        "cellView": "form"
      },
      "source": [
        "#@title Change content, reimport and get results\n",
        "txt = \"TR||37276137836630a8473b|US BF1030134 0200154009450|US8|2000.00|20211130|||Computers by Jenni||||1515 Main St.||Middlefield|94482|CA|||||||||||||0910000193||||||||||||||||||||||||\\r\\nIN|0|155|155|20211109|20211130|0.00|2000.00|||||\"\n",
        "v, result = test(client_id,client_secret,txt,filename)\n",
        "result"
      ],
      "execution_count": null,
      "outputs": []
    }
  ]
}