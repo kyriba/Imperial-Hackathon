{
  "nbformat": 4,
  "nbformat_minor": 5,
  "metadata": {
    "kernelspec": {
      "display_name": "Python 3 (ipykernel)",
      "language": "python",
      "name": "python3"
    },
    "language_info": {
      "codemirror_mode": {
        "name": "ipython",
        "version": 3
      },
      "file_extension": ".py",
      "mimetype": "text/x-python",
      "name": "python",
      "nbconvert_exporter": "python",
      "pygments_lexer": "ipython3",
      "version": "3.9.9"
    },
    "colab": {
      "name": "hacka_proc_rules.ipynb",
      "provenance": [],
      "collapsed_sections": []
    }
  },
  "cells": [
    {
      "cell_type": "markdown",
      "metadata": {
        "id": "ffba56b2-3dff-4114-9452-b27ca0860d1a"
      },
      "source": [
        "# Kyriba X Imperial College  Hackathon \n"
      ],
      "id": "ffba56b2-3dff-4114-9452-b27ca0860d1a"
    },
    {
      "cell_type": "code",
      "metadata": {
        "cellView": "form",
        "id": "59261dea-7dc6-45ac-ac99-99b10f08d0d9"
      },
      "source": [
        "#@title Import modules\n",
        "import numpy as np\n",
        "import pandas as pd\n",
        "import matplotlib.pyplot as plt\n",
        "\n",
        "import datetime\n",
        "import sys, os\n",
        "from pathlib import Path\n",
        "import json\n",
        "from forex_python.converter import CurrencyCodes\n",
        "import pgeocode"
      ],
      "id": "59261dea-7dc6-45ac-ac99-99b10f08d0d9",
      "execution_count": null,
      "outputs": []
    },
    {
      "cell_type": "code",
      "metadata": {
        "id": "d55481ff-904f-4318-8cbc-6e206aabf5bc"
      },
      "source": [
        "seed=0\n",
        "np.random.seed(seed)"
      ],
      "id": "d55481ff-904f-4318-8cbc-6e206aabf5bc",
      "execution_count": null,
      "outputs": []
    },
    {
      "cell_type": "markdown",
      "metadata": {
        "id": "4f257dca-6624-46ea-93e4-1c005d5e01c1"
      },
      "source": [
        "Some libraries have to be installed : "
      ],
      "id": "4f257dca-6624-46ea-93e4-1c005d5e01c1"
    },
    {
      "cell_type": "code",
      "metadata": {
        "id": "350b987b-70a6-4884-8daf-f8e78e5375c0",
        "outputId": "921ece48-c1ff-4013-d877-16fa6d2f329b"
      },
      "source": [
        "! pip install forex-python"
      ],
      "id": "350b987b-70a6-4884-8daf-f8e78e5375c0",
      "execution_count": null,
      "outputs": [
        {
          "name": "stdout",
          "output_type": "stream",
          "text": [
            "Requirement already satisfied: forex-python in c:\\users\\basile.etienne\\documents\\env\\lib\\site-packages (1.7)\n",
            "Requirement already satisfied: simplejson in c:\\users\\basile.etienne\\documents\\env\\lib\\site-packages (from forex-python) (3.17.6)\n",
            "Requirement already satisfied: requests in c:\\users\\basile.etienne\\documents\\env\\lib\\site-packages (from forex-python) (2.26.0)\n",
            "Requirement already satisfied: certifi>=2017.4.17 in c:\\users\\basile.etienne\\documents\\env\\lib\\site-packages (from requests->forex-python) (2021.10.8)\n",
            "Requirement already satisfied: idna<4,>=2.5 in c:\\users\\basile.etienne\\documents\\env\\lib\\site-packages (from requests->forex-python) (3.3)\n",
            "Requirement already satisfied: charset-normalizer~=2.0.0 in c:\\users\\basile.etienne\\documents\\env\\lib\\site-packages (from requests->forex-python) (2.0.7)\n",
            "Requirement already satisfied: urllib3<1.27,>=1.21.1 in c:\\users\\basile.etienne\\documents\\env\\lib\\site-packages (from requests->forex-python) (1.26.7)\n"
          ]
        },
        {
          "name": "stderr",
          "output_type": "stream",
          "text": [
            "WARNING: You are using pip version 21.2.4; however, version 21.3.1 is available.\n",
            "You should consider upgrading via the 'C:\\Users\\basile.etienne\\Documents\\env\\Scripts\\python.exe -m pip install --upgrade pip' command.\n"
          ]
        }
      ]
    },
    {
      "cell_type": "code",
      "metadata": {
        "id": "a96b2271-1bc0-4524-a6f0-045b4785dbe7",
        "outputId": "399ec056-48d8-46b4-896d-982cc5675370"
      },
      "source": [
        "! pip install pgeocode"
      ],
      "id": "a96b2271-1bc0-4524-a6f0-045b4785dbe7",
      "execution_count": null,
      "outputs": [
        {
          "name": "stdout",
          "output_type": "stream",
          "text": [
            "Collecting pgeocode\n",
            "  Downloading pgeocode-0.3.0-py3-none-any.whl (8.5 kB)\n",
            "Requirement already satisfied: requests in c:\\users\\basile.etienne\\documents\\env\\lib\\site-packages (from pgeocode) (2.26.0)\n",
            "Requirement already satisfied: numpy in c:\\users\\basile.etienne\\documents\\env\\lib\\site-packages (from pgeocode) (1.21.4)\n",
            "Requirement already satisfied: pandas in c:\\users\\basile.etienne\\documents\\env\\lib\\site-packages (from pgeocode) (1.3.4)\n",
            "Requirement already satisfied: pytz>=2017.3 in c:\\users\\basile.etienne\\documents\\env\\lib\\site-packages (from pandas->pgeocode) (2021.3)\n",
            "Requirement already satisfied: python-dateutil>=2.7.3 in c:\\users\\basile.etienne\\documents\\env\\lib\\site-packages (from pandas->pgeocode) (2.8.2)\n",
            "Requirement already satisfied: urllib3<1.27,>=1.21.1 in c:\\users\\basile.etienne\\documents\\env\\lib\\site-packages (from requests->pgeocode) (1.26.7)\n",
            "Requirement already satisfied: charset-normalizer~=2.0.0 in c:\\users\\basile.etienne\\documents\\env\\lib\\site-packages (from requests->pgeocode) (2.0.7)\n",
            "Requirement already satisfied: idna<4,>=2.5 in c:\\users\\basile.etienne\\documents\\env\\lib\\site-packages (from requests->pgeocode) (3.3)\n",
            "Requirement already satisfied: certifi>=2017.4.17 in c:\\users\\basile.etienne\\documents\\env\\lib\\site-packages (from requests->pgeocode) (2021.10.8)\n",
            "Requirement already satisfied: six>=1.5 in c:\\users\\basile.etienne\\documents\\env\\lib\\site-packages (from python-dateutil>=2.7.3->pandas->pgeocode) (1.16.0)\n",
            "Installing collected packages: pgeocode\n",
            "Successfully installed pgeocode-0.3.0\n"
          ]
        }
      ]
    },
    {
      "cell_type": "code",
      "metadata": {
        "id": "7197d69b-5aa5-49a1-90de-792ab92f4540",
        "outputId": "91409004-b0f1-445f-a14c-ef9e57346a77"
      },
      "source": [
        "nomi = pgeocode.Nominatim('FR')\n",
        "nomi.query_postal_code(\"62140\")"
      ],
      "id": "7197d69b-5aa5-49a1-90de-792ab92f4540",
      "execution_count": null,
      "outputs": [
        {
          "data": {
            "text/plain": [
              "postal_code                                                   62140\n",
              "country_code                                                     FR\n",
              "place_name        Wambercourt, Bouin-Plumoison, Caumont, Marconn...\n",
              "state_name                                          Hauts-de-France\n",
              "state_code                                                     32.0\n",
              "county_name                                           Pas-de-Calais\n",
              "county_code                                                      62\n",
              "community_name                          Arrondissement de Montreuil\n",
              "community_code                                                  624\n",
              "latitude                                                    50.4284\n",
              "longitude                                                    2.0136\n",
              "accuracy                                                          5\n",
              "Name: 0, dtype: object"
            ]
          },
          "execution_count": 25,
          "metadata": {},
          "output_type": "execute_result"
        }
      ]
    },
    {
      "cell_type": "markdown",
      "metadata": {
        "id": "c87cd6f4-36ae-4877-b74d-8a90260f48d5"
      },
      "source": [
        "The following function transforms the input json from the ERP to a more convenient pandas DataFrame."
      ],
      "id": "c87cd6f4-36ae-4877-b74d-8a90260f48d5"
    },
    {
      "cell_type": "code",
      "metadata": {
        "id": "3e6f296c-a41b-4454-aa17-a0aa52571ed8"
      },
      "source": [
        "def json_to_df(path) :\n",
        "    # Opening JSON file\n",
        "    f = open(path, encoding=\"utf8\")\n",
        "\n",
        "    # returns JSON object as\n",
        "    # a dictionary\n",
        "    data = json.load(f)\n",
        "    dicts = data['body']['value']\n",
        "    df = pd.DataFrame(dicts[0], index= [0])\n",
        "    for k in range(len(dicts)) :\n",
        "        row = pd.DataFrame(dicts[k], index= [k])\n",
        "        df = df.append(row, ignore_index=True)\n",
        "    return df\n",
        "\n",
        "## e.g. with a json from D365\n",
        "df_D365 = json_to_df('D365.json')"
      ],
      "id": "3e6f296c-a41b-4454-aa17-a0aa52571ed8",
      "execution_count": null,
      "outputs": []
    },
    {
      "cell_type": "code",
      "metadata": {
        "id": "5bc1dda1-8614-453b-9fdc-b819d2fe2d7b",
        "outputId": "85fc2eb3-497d-40bf-9d86-4cade43b903e"
      },
      "source": [
        "df_D365.columns"
      ],
      "id": "5bc1dda1-8614-453b-9fdc-b819d2fe2d7b",
      "execution_count": null,
      "outputs": [
        {
          "data": {
            "text/plain": [
              "Index(['@odata.etag', 'ItemInternalId', 'KeyGuid', 'Correspondent_Account',\n",
              "       'ThirdPartyBank_ProvinceCode', 'Mandate_MandateDate',\n",
              "       'ThirdPartyBank_CountryCode', 'ThirdPartyBank_Description', 'LinkId',\n",
              "       'Invoice_InvoiceDate', 'CheckNumber', 'PaymentStatus', 'FreeText8',\n",
              "       'FreeText9', 'TransactionAmount', 'FreeText2', 'FreeText3',\n",
              "       'ThirdPartyBank_Address2', 'FreeText1', 'ThirdPartyBank_Address1',\n",
              "       'Details', 'FeeAssessment', 'FreeText6', 'FreeText7', 'FreeText4',\n",
              "       'FreeText5', 'ThirdParty_ProvinceCode', 'ThirdParty_Description',\n",
              "       'ThirdPartyBank_ZIP', 'Correspondent_CountryCode', 'TransactionDate',\n",
              "       'ThirdPartyBank_AccountId1', 'CompanyId', 'Correspondent_Description',\n",
              "       'TransactionType', 'ThirdParty_City', 'Correspondent_BIC',\n",
              "       'ThirdPartyBank_City', 'Invoice_PaidAmount',\n",
              "       'ThirdPartyBank_IdentifierValue', 'Invoice_Type',\n",
              "       'ThirdParty_Description2', 'Reference', 'Reason1', 'Account',\n",
              "       'ThirdParty_IdentifierValue', 'TransactionCode', 'Mandate_SequenceType',\n",
              "       'ThirdParty_CorpId', 'RemittanceIdentifier',\n",
              "       'ThirdPartyBank_AccountNature', 'Mandate_UMR', 'TransactionCurrency',\n",
              "       'ThirdParty_CountryCode', 'Mandate_SCI', 'Invoice_DueDate',\n",
              "       'Invoice_FreeText1', 'Invoice_InternalRef', 'Invoice_FreeText3',\n",
              "       'Invoice_FreeText2', 'Invoice_FreeText5', 'Invoice_FreeText4',\n",
              "       'Invoice_BeneficiaryRef', 'RecordType', 'Correspondent_IdentifierValue',\n",
              "       'ThirdPartyBank_BIC', 'FreeText10', 'ThirdParty_Address2',\n",
              "       'ThirdParty_Address1', 'ThirdParty_ContactEmail',\n",
              "       'Invoice_BilledAmount', 'ThirdPartyBank_Currency', 'ThirdParty_ZIP',\n",
              "       'PaymReference'],\n",
              "      dtype='object')"
            ]
          },
          "execution_count": 13,
          "metadata": {},
          "output_type": "execute_result"
        }
      ]
    },
    {
      "cell_type": "markdown",
      "metadata": {
        "id": "c202a9e2-89f6-4784-b3da-d218dbbe8343"
      },
      "source": [
        "## Columns from Kyriba\n",
        "These are the output columns you need to provide. "
      ],
      "id": "c202a9e2-89f6-4784-b3da-d218dbbe8343"
    },
    {
      "cell_type": "code",
      "metadata": {
        "id": "c68fa54d-3bfe-40fd-b853-51d41b2575f1"
      },
      "source": [
        "df = pd.read_csv('cols_names.csv') "
      ],
      "id": "c68fa54d-3bfe-40fd-b853-51d41b2575f1",
      "execution_count": null,
      "outputs": []
    },
    {
      "cell_type": "markdown",
      "metadata": {
        "id": "7f180899-67a1-4e66-903a-fdf525138909"
      },
      "source": [
        "Respectively the columns for transactions and for invoices :"
      ],
      "id": "7f180899-67a1-4e66-903a-fdf525138909"
    },
    {
      "cell_type": "code",
      "metadata": {
        "id": "a0088b44-45ff-41b0-ba8c-41c8a56e3216"
      },
      "source": [
        "kyr_cols_TR = df[df['Position in CSV Kyriba file'].notnull() & df['Position in CSV Kyriba file'].str.contains('TR', case = False)]['IM column']\n",
        "kyr_cols_TR = kyr_cols_TR[kyr_cols_TR.notnull()].to_numpy()\n",
        "\n",
        "kyr_cols_IN = df[df['Position in CSV Kyriba file'].notnull() & df['Position in CSV Kyriba file'].str.contains('IN', case = False)]['IM column']\n",
        "kyr_cols_IN = kyr_cols_IN[kyr_cols_IN.notnull()].to_numpy()"
      ],
      "id": "a0088b44-45ff-41b0-ba8c-41c8a56e3216",
      "execution_count": null,
      "outputs": []
    },
    {
      "cell_type": "markdown",
      "metadata": {
        "id": "a001d5a6-44c1-4196-a090-830578bb9763"
      },
      "source": [
        "**The output of your Model must be a pandas dataframe with `kyr_cols_TR` and `kyr_cols_IN` as columns respectively for the transactions and invoices.**"
      ],
      "id": "a001d5a6-44c1-4196-a090-830578bb9763"
    },
    {
      "cell_type": "code",
      "metadata": {
        "id": "47b4907e-fbbe-44b7-8b91-98604ef3910b",
        "outputId": "517d5897-1dc7-451a-deca-6126c3b64109"
      },
      "source": [
        "print(\"###################### Columns for transactions : #####################\")\n",
        "for c in kyr_cols_TR : \n",
        "      print(c)\n",
        "print(\"###################### Columns for invoices : ######################\")\n",
        "\n",
        "for c in kyr_cols_IN :\n",
        "    print(c)\n",
        "      "
      ],
      "id": "47b4907e-fbbe-44b7-8b91-98604ef3910b",
      "execution_count": null,
      "outputs": [
        {
          "name": "stdout",
          "output_type": "stream",
          "text": [
            "###################### Columns for transactions : #####################\n",
            "Record Type\n",
            "Transaction code\n",
            "Reference\n",
            "Debit/Credit account\n",
            "Transaction currency\n",
            "Transaction amount\n",
            "Date\n",
            "Reason 1\n",
            "Fee assessment\n",
            "Third party.Description\n",
            "Third party.Description 2\n",
            "Third party.Identifier value\n",
            "Third party.Corp Id code\n",
            "Third party.Address 1\n",
            "Third party.Address 2\n",
            "Third party.City\n",
            "Third party.ZIP\n",
            "Third party.Province code\n",
            "Third party.Country code\n",
            "Third party Contact.E-mail\n",
            "Third party bank.Description\n",
            "Third party bank.BIC Code\n",
            "Third party bank.Identifier value\n",
            "Third party bank.Address 1\n",
            "Third party bank.Address 2\n",
            "Third party bank.City\n",
            "Third party bank.ZIP\n",
            "Third party bank.Province code\n",
            "Third party bank.Country code\n",
            "Third party bank.Currency\n",
            "Third party bank.Account Id 1\n",
            "Third party bank.Account nature\n",
            "Correspondent.BIC\n",
            "Correspondent.Description\n",
            "Correspondent.Country code\n",
            "Correspondent.Identifier value\n",
            "Correspondent.Account\n",
            "Free text 1\n",
            "Free text 2\n",
            "Free text 3\n",
            "Free text 4\n",
            "Free text 5\n",
            "Free text 6\n",
            "Free text 7\n",
            "Free text 8\n",
            "Free text 9\n",
            "Free text 10\n",
            "Transfer/Remittance identifier 1\n",
            "Check number\n",
            "UMR\n",
            "SCI\n",
            "Mandate date\n",
            "Sequence type\n",
            "Free text field 15\n",
            "Link ID\n",
            "###################### Columns for invoices : ######################\n",
            "Record Invoice type\n",
            "Type\n",
            "Internal reference\n",
            "Beneficiary reference\n",
            "Invoice date\n",
            "Due date\n",
            "Paid amount\n",
            "Billed amount\n",
            "Free text 1\n",
            "Free text 2\n",
            "Free text 3\n",
            "Free text 4\n",
            "Free text 5\n"
          ]
        }
      ]
    },
    {
      "cell_type": "markdown",
      "metadata": {
        "id": "dc08513e-f9a1-48b2-a4ad-719a11500e02"
      },
      "source": [
        "## Rules\n",
        "To automatically verify that fields are correctly mapped, a first set of rules has to be defined - and can be improved, before sending the TR/IN to the API. "
      ],
      "id": "dc08513e-f9a1-48b2-a4ad-719a11500e02"
    },
    {
      "cell_type": "markdown",
      "metadata": {
        "id": "9a22263c-774e-45c7-88e8-647fb7b970b1"
      },
      "source": [
        "A date format must be specified, which could be learned, or specified manually. See https://pandas.pydata.org/docs/reference/api/pandas.to_datetime.html and https://docs.python.org/3/library/datetime.html#strftime-and-strptime-behavior for the formats. For more complex formats, see https://lexpredict-lexnlp.readthedocs.io/en/latest/modules/extract/en/dates.html#extract-en-dates for example. An example is provided by default."
      ],
      "id": "9a22263c-774e-45c7-88e8-647fb7b970b1"
    },
    {
      "cell_type": "code",
      "metadata": {
        "tags": [],
        "id": "6f7155e6-2913-4a14-b777-bbc839c6d6dc"
      },
      "source": [
        "def respects_rules(df, date_format='%d/%m/%Y', record_type = 'TR') :\n",
        "    df = df.copy()\n",
        "    errors = [{} for k in range(len(df))]\n",
        "    if record_type == 'TR' :\n",
        "        for k in range(len(df)) :\n",
        "            row = df.loc[k]\n",
        "            #Type : IN / TR ?\n",
        "            if row['Record Type'] != 'TR' :\n",
        "                errors[k]['Record Type'] = 'Wrong record type, expected TR but got : ' + row['Record Type']\n",
        "            \n",
        "            # Currency\n",
        "            if row['Transaction currency'] != '' :\n",
        "                c = CurrencyCodes()\n",
        "                if c.get_symbol(row['Transaction currency']) == None and c.get_currency_name(row['Transaction currency']) == None and c.get_currency_code_from_symbol(row['Transaction currency']) == None :\n",
        "                    errors[k]['Transaction currency'] = 'Wrong value, expected a currency name, symbol or code, but got : ' + row['Transaction currency']\n",
        "            # Date\n",
        "            try :\n",
        "                row.date = pd.to_datetime(row['Date'], format=date_format)\n",
        "            except ValueError :\n",
        "                errors[k]['Date Format'] = \"Time data does not match format \" + date_format\n",
        "                \n",
        "            #Bank account nature ''\n",
        "            if row['Third party bank.Account nature'] not in [\"01\",\"02\"] :\n",
        "                errors[k]['Bank account nature'] = 'Wrong bank account nature, expected \"01\" or \"02\" but got : ' + row['Third party bank.Account nature']\n",
        "            \n",
        "            #Country, postal code, city\n",
        "            if row['Third party bank.Country code'] != '' :\n",
        "                try : \n",
        "                    nomi = pgeocode.Nominatim(row['Third party bank.Country code'])\n",
        "                    if type(nomi.query_postal_code(row['Third party bank.ZIP'])['country_code']) == float :\n",
        "                        errors[k]['ZIP'] = \"Wrong ZIP/Postal code : \" + row['Third party bank.ZIP'] + \", for the given country : \" + row['Third party bank.Country code']\n",
        "                    elif  row['Third party bank.City'] != '' and row['Third party bank.City'] not in nomi.query_postal_code(row['Third party bank.ZIP'])['place_name'].split(\", \") :\n",
        "                        errors[k]['City'] = \"Wrong City : \" + row['Third party bank.City'] + \", for the given ZIP/Postal code : \" + row['Third party bank.ZIP'] + \" and country \" + row['Third party bank.Country code']\n",
        "\n",
        "                except ValueError : \n",
        "                    errors[k]['Country code'] = \"Wrong country code, either a not supported country or a wrong value. Got : \" + row['Third party bank.Country code']\n",
        "                \n",
        "                \n",
        "            if row['Third party.Country code'] != '' :\n",
        "                try : \n",
        "                    nomi = pgeocode.Nominatim(row['Third party.Country code'])\n",
        "                    if type(nomi.query_postal_code(row['Third party.ZIP'])['country_code']) == float :\n",
        "                        errors[k]['ZIP'] = \"Wrong ZIP/Postal code : \" + row['Third party.ZIP'] + \", for the given country : \" + row['Third party.Country code']\n",
        "                    elif  row['Third party.City'] != '' and row['Third party.City'] not in nomi.query_postal_code(row['Third party.ZIP'])['place_name'].split(\", \") :\n",
        "                        errors[k]['City'] = \"Wrong City : \" + row['Third party.City'] + \", for the given ZIP/Postal code : \" + row['Third party.ZIP'] + \" and country \" + row['Third party.Country code']\n",
        "\n",
        "                except ValueError : \n",
        "                    errors[k]['Country code'] = \"Wrong country code, either a not supported country or a wrong value. Got : \" + row['Third party bank.Country code']\n",
        "                \n",
        "            if errors[k] != {} :\n",
        "                errors[k]['index'] = k\n",
        "                \n",
        "            \n",
        "         \n",
        "    elif record_type == 'IN' : \n",
        "        for k in range(len(df)) :\n",
        "            row = df.loc[k]\n",
        "            try :\n",
        "                row.due_date = pd.to_datetime(row['Due date'], format=date_format)\n",
        "                row.invoice_date = pd.to_datetime(row['Invoice date'], format=date_format)\n",
        "                if row.invoice_date > row.due_date :\n",
        "                    errors[k]['Order of dates'] = 'The specified invoice date is greater than the due date'\n",
        "            except ValueError :\n",
        "                errors[k]['Date Format'] = \"Time data does not match format \" + date_format\n",
        "            \n",
        "\n",
        "            \n",
        "            \n",
        "            if errors[k] != {} :\n",
        "                errors[k]['index'] = k\n",
        "    return errors\n",
        "    "
      ],
      "id": "6f7155e6-2913-4a14-b777-bbc839c6d6dc",
      "execution_count": null,
      "outputs": []
    },
    {
      "cell_type": "code",
      "metadata": {
        "id": "c4b514e9-cbf7-4d14-bafb-549e72852d29"
      },
      "source": [
        "df_test =  pd.DataFrame([['TR', 'EUR','5/4/2020','02/4/2020', 'FR', '62140', '01','02/4/2020', 'Wambercourt'], \n",
        "                         ['TR', 'EUR','1/4/2020','02/4/2020', 'US', '22313', '01','02/4/2020', 'New York']], \n",
        "                        columns=['Record Type', 'Transaction currency', 'Due date', 'Invoice date', 'Third party bank.Country code', \n",
        "                                 'Third party bank.ZIP', 'Third party bank.Account nature','Date', 'Third party bank.City'], index=[0, 1])"
      ],
      "id": "c4b514e9-cbf7-4d14-bafb-549e72852d29",
      "execution_count": null,
      "outputs": []
    },
    {
      "cell_type": "code",
      "metadata": {
        "id": "47aef6ad-38a9-483d-b609-1cb1c0e2b52a",
        "outputId": "c6b3eea3-a986-4291-b0c7-8b4d983ebb94"
      },
      "source": [
        "df_test"
      ],
      "id": "47aef6ad-38a9-483d-b609-1cb1c0e2b52a",
      "execution_count": null,
      "outputs": [
        {
          "data": {
            "text/html": [
              "<div>\n",
              "<style scoped>\n",
              "    .dataframe tbody tr th:only-of-type {\n",
              "        vertical-align: middle;\n",
              "    }\n",
              "\n",
              "    .dataframe tbody tr th {\n",
              "        vertical-align: top;\n",
              "    }\n",
              "\n",
              "    .dataframe thead th {\n",
              "        text-align: right;\n",
              "    }\n",
              "</style>\n",
              "<table border=\"1\" class=\"dataframe\">\n",
              "  <thead>\n",
              "    <tr style=\"text-align: right;\">\n",
              "      <th></th>\n",
              "      <th>Record Type</th>\n",
              "      <th>Transaction currency</th>\n",
              "      <th>Due date</th>\n",
              "      <th>Invoice date</th>\n",
              "      <th>Third party bank.Country code</th>\n",
              "      <th>Third party bank.ZIP</th>\n",
              "      <th>Third party bank.Account nature</th>\n",
              "      <th>Date</th>\n",
              "      <th>Third party bank.City</th>\n",
              "    </tr>\n",
              "  </thead>\n",
              "  <tbody>\n",
              "    <tr>\n",
              "      <th>0</th>\n",
              "      <td>TR</td>\n",
              "      <td>EUR</td>\n",
              "      <td>5/4/2020</td>\n",
              "      <td>02/4/2020</td>\n",
              "      <td>FR</td>\n",
              "      <td>62140</td>\n",
              "      <td>01</td>\n",
              "      <td>02/4/2020</td>\n",
              "      <td>Wambercourt</td>\n",
              "    </tr>\n",
              "    <tr>\n",
              "      <th>1</th>\n",
              "      <td>TR</td>\n",
              "      <td>EUR</td>\n",
              "      <td>1/4/2020</td>\n",
              "      <td>02/4/2020</td>\n",
              "      <td>US</td>\n",
              "      <td>22313</td>\n",
              "      <td>01</td>\n",
              "      <td>02/4/2020</td>\n",
              "      <td>New York</td>\n",
              "    </tr>\n",
              "  </tbody>\n",
              "</table>\n",
              "</div>"
            ],
            "text/plain": [
              "  Record Type Transaction currency  Due date Invoice date  \\\n",
              "0          TR                  EUR  5/4/2020    02/4/2020   \n",
              "1          TR                  EUR  1/4/2020    02/4/2020   \n",
              "\n",
              "  Third party bank.Country code Third party bank.ZIP  \\\n",
              "0                            FR                62140   \n",
              "1                            US                22313   \n",
              "\n",
              "  Third party bank.Account nature       Date Third party bank.City  \n",
              "0                              01  02/4/2020           Wambercourt  \n",
              "1                              01  02/4/2020              New York  "
            ]
          },
          "execution_count": 19,
          "metadata": {},
          "output_type": "execute_result"
        }
      ]
    },
    {
      "cell_type": "code",
      "metadata": {
        "id": "86162b89-1c07-4f4a-82eb-48b5f60a7ee2",
        "outputId": "ca0722cf-80d5-4ff2-cf1a-eb2f767f5d4b"
      },
      "source": [
        "respects_rules(df_test, record_type = 'TR')"
      ],
      "id": "86162b89-1c07-4f4a-82eb-48b5f60a7ee2",
      "execution_count": null,
      "outputs": [
        {
          "data": {
            "text/plain": [
              "[{},\n",
              " {'City': 'Wrong City : New York, for the given ZIP/Postal code : 22313',\n",
              "  'index': 1}]"
            ]
          },
          "execution_count": 20,
          "metadata": {},
          "output_type": "execute_result"
        }
      ]
    },
    {
      "cell_type": "markdown",
      "metadata": {
        "id": "536fa3c8-0b5f-4a32-8ca4-844d4a2359a8"
      },
      "source": [
        "The following function transforms such an input to the Kyriba format. Note that the input df should be only of one record type (either TR or IN) and the **order** of the columns **does matter**."
      ],
      "id": "536fa3c8-0b5f-4a32-8ca4-844d4a2359a8"
    },
    {
      "cell_type": "code",
      "metadata": {
        "id": "42a83027-fde8-4e51-b964-c740e0b2dee6"
      },
      "source": [
        "#should we concatenate TR and corresponding IN ??\n",
        "def to_kyr_format(df):\n",
        "    res = []\n",
        "    for k in range(len(df)) : \n",
        "        row = df.loc[k].to_numpy()\n",
        "        string = ''\n",
        "        for value in row :\n",
        "            \n",
        "            string += value + '|' #np.array2string(row.to_numpy(),separator='|')[1:-1]\n",
        "        string = string[:-1]\n",
        "        res.append(string)\n",
        "    return res"
      ],
      "id": "42a83027-fde8-4e51-b964-c740e0b2dee6",
      "execution_count": null,
      "outputs": []
    },
    {
      "cell_type": "code",
      "metadata": {
        "id": "af0a3dec-5658-4add-a322-447e5e915d52",
        "outputId": "755130c1-65c9-416e-efcf-a2a8d6c0f2dd"
      },
      "source": [
        "to_kyr_format(df_test)"
      ],
      "id": "af0a3dec-5658-4add-a322-447e5e915d52",
      "execution_count": null,
      "outputs": [
        {
          "data": {
            "text/plain": [
              "['TR|EUR|5/4/2020|02/4/2020|FR|62140|01|02/4/2020',\n",
              " 'TR|EUR|1/4/2020|02/4/2020|US|22313|01|02/4/2020']"
            ]
          },
          "execution_count": 290,
          "metadata": {},
          "output_type": "execute_result"
        }
      ]
    }
  ]
}